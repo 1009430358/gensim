{
 "cells": [
  {
   "cell_type": "markdown",
   "metadata": {},
   "source": [
    "## Deep Inverse Regression with Yelp reviews\n",
    "\n",
    "In this note we'll use [gensim](http://radimrehurek.com/gensim/) to turn the Word2Vec machinery into a document classifier, as in [Document Classification by Inversion of Distributed Language Representations](http://arxiv.org/pdf/1504.07295v3) from ACL 2015."
   ]
  },
  {
   "cell_type": "markdown",
   "metadata": {},
   "source": [
    "### Data and prep"
   ]
  },
  {
   "cell_type": "markdown",
   "metadata": {},
   "source": [
    "First, download to the same directory as this note the data from the [Yelp recruiting contest](https://www.kaggle.com/c/yelp-recruiting) on [kaggle](https://www.kaggle.com/):\n",
    "* https://www.kaggle.com/c/yelp-recruiting/download/yelp_training_set.zip\n",
    "* https://www.kaggle.com/c/yelp-recruiting/download/yelp_test_set.zip\n",
    "\n",
    "You'll need to sign-up for kaggle.\n",
    "\n"
   ]
  },
  {
   "cell_type": "markdown",
   "metadata": {},
   "source": [
    "You can then unpack the data and grab the information we need.  "
   ]
  },
  {
   "cell_type": "markdown",
   "metadata": {},
   "source": [
    "We'll use an incredibly simple parser"
   ]
  },
  {
   "cell_type": "code",
   "execution_count": 1,
   "metadata": {
    "collapsed": false
   },
   "outputs": [],
   "source": [
    "import re\n",
    "contractions = re.compile(r\"'|-|\\\"\")\n",
    "# all non alphanumeric\n",
    "symbols = re.compile(r'(\\W+)', re.U)\n",
    "# single character removal\n",
    "singles = re.compile(r'(\\s\\S\\s)', re.I|re.U)\n",
    "# separators (any whitespace)\n",
    "seps = re.compile(r'\\s+')\n",
    "\n",
    "# cleaner (order matters)\n",
    "def clean(text): \n",
    "    text = text.lower()\n",
    "    text = contractions.sub('', text)\n",
    "    text = symbols.sub(r' \\1 ', text)\n",
    "    text = singles.sub(' ', text)\n",
    "    text = seps.sub(' ', text)\n",
    "    return text\n",
    "\n",
    "# sentence splitter\n",
    "alteos = re.compile(r'([!\\?])')\n",
    "def sentences(l):\n",
    "    l = alteos.sub(r' \\1 .', l).rstrip(\"(\\.)*\\n\")\n",
    "    return l.split(\".\")\n"
   ]
  },
  {
   "cell_type": "markdown",
   "metadata": {},
   "source": [
    "And put everything together in a review generator that provides tokenized sentences and the number of stars for every review."
   ]
  },
  {
   "cell_type": "code",
   "execution_count": 2,
   "metadata": {
    "collapsed": true
   },
   "outputs": [],
   "source": [
    "from zipfile import ZipFile\n",
    "import json\n",
    "\n",
    "def YelpReviews(label):\n",
    "    with ZipFile(\"yelp_%s_set.zip\"%label, 'r') as zf:\n",
    "        with zf.open(\"yelp_%s_set/yelp_%s_set_review.json\"%(label,label)) as f:\n",
    "            for line in f:\n",
    "                rev = json.loads(line)\n",
    "                yield {'y':rev['stars'],\\\n",
    "                       'x':[clean(s).split() for s in sentences(rev['text'])]}\n"
   ]
  },
  {
   "cell_type": "markdown",
   "metadata": {},
   "source": [
    "For example:"
   ]
  },
  {
   "cell_type": "code",
   "execution_count": 3,
   "metadata": {
    "collapsed": false,
    "scrolled": false
   },
   "outputs": [
    {
     "data": {
      "text/plain": [
       "{'x': [[u'nice', u'place', u'big', u'patio'],\n",
       "  [u'now', u'offering', u'live', u'sketch', u'comedy'],\n",
       "  [u'wednesday',\n",
       "   u'november',\n",
       "   u'17th',\n",
       "   u'see',\n",
       "   u'local',\n",
       "   u'troupe',\n",
       "   u'th',\n",
       "   u'sic',\n",
       "   u'sense',\n",
       "   u'in',\n",
       "   u'their',\n",
       "   u'2nd',\n",
       "   u'annual',\n",
       "   u'holiday',\n",
       "   u'show'],\n",
       "  [u'lighter', u'snappier', u'take', u'on', u'the', u'holiday', u'times'],\n",
       "  [u'not', u'for', u'the', u'easily', u'offended'],\n",
       "  [u'sketches',\n",
       "   u'include',\n",
       "   u'the',\n",
       "   u'scariest',\n",
       "   u'holloween',\n",
       "   u'costume',\n",
       "   u'the',\n",
       "   u'first',\n",
       "   u'thanksgiving',\n",
       "   u'and',\n",
       "   u'who',\n",
       "   u'shot',\n",
       "   u'santa',\n",
       "   u'claus'],\n",
       "  [u'as',\n",
       "   u'well',\n",
       "   u'as',\n",
       "   u'the',\n",
       "   u'infectious',\n",
       "   u'song',\n",
       "   u'mama',\n",
       "   u'christmas']],\n",
       " 'y': 5}"
      ]
     },
     "execution_count": 3,
     "metadata": {},
     "output_type": "execute_result"
    }
   ],
   "source": [
    "YelpReviews(\"test\").next()"
   ]
  },
  {
   "cell_type": "markdown",
   "metadata": {},
   "source": [
    "Now, since the files are small we'll just read everything into in-memory lists.  It takes a minute ..."
   ]
  },
  {
   "cell_type": "code",
   "execution_count": 4,
   "metadata": {
    "collapsed": false
   },
   "outputs": [
    {
     "name": "stdout",
     "output_type": "stream",
     "text": [
      "229907 training reviews\n"
     ]
    }
   ],
   "source": [
    "revtrain = list(YelpReviews(\"training\"))\n",
    "print len(revtrain), \"training reviews\"\n",
    "\n",
    "## and shuffle just in case they are ordered\n",
    "import numpy as np\n",
    "np.random.shuffle(revtrain)"
   ]
  },
  {
   "cell_type": "markdown",
   "metadata": {},
   "source": [
    "Finally, write a function to generate sentences -- ordered lists of words -- from reviews that have certain star ratings"
   ]
  },
  {
   "cell_type": "code",
   "execution_count": 5,
   "metadata": {
    "collapsed": false
   },
   "outputs": [],
   "source": [
    "def StarSentences(reviews, stars=[1,2,3,4,5]):\n",
    "    for r in reviews:\n",
    "        if r['y'] in stars:\n",
    "            for s in r['x']:\n",
    "                yield s"
   ]
  },
  {
   "cell_type": "markdown",
   "metadata": {},
   "source": [
    "### Word2Vec modeling"
   ]
  },
  {
   "cell_type": "markdown",
   "metadata": {},
   "source": [
    "We fit out-of-the-box Word2Vec"
   ]
  },
  {
   "cell_type": "code",
   "execution_count": 6,
   "metadata": {
    "collapsed": false
   },
   "outputs": [
    {
     "name": "stdout",
     "output_type": "stream",
     "text": [
      "Word2Vec(vocab=0, size=100, alpha=0.025)\n"
     ]
    }
   ],
   "source": [
    "from gensim.models import Word2Vec\n",
    "import multiprocessing\n",
    "\n",
    "## create a w2v learner \n",
    "basemodel = Word2Vec(\n",
    "    workers=multiprocessing.cpu_count(), # use your cores\n",
    "    iter=3) # sweeps of SGD through the data; more is better\n",
    "print basemodel"
   ]
  },
  {
   "cell_type": "markdown",
   "metadata": {},
   "source": [
    "Build vocab from all sentences (you could also pre-train the base model from a neutral or un-labeled vocabulary)"
   ]
  },
  {
   "cell_type": "code",
   "execution_count": 7,
   "metadata": {
    "collapsed": false
   },
   "outputs": [],
   "source": [
    "basemodel.build_vocab(StarSentences(revtrain))  "
   ]
  },
  {
   "cell_type": "markdown",
   "metadata": {},
   "source": [
    "Now, we will _deep_ copy each base model and do star-specific training. This is where the big computations happen..."
   ]
  },
  {
   "cell_type": "code",
   "execution_count": 8,
   "metadata": {
    "collapsed": false
   },
   "outputs": [
    {
     "name": "stdout",
     "output_type": "stream",
     "text": [
      "1 stars ( 246207 )\n",
      "2 stars ( 295371 )\n",
      "3 stars ( 437718 )\n",
      "4 stars ( 883235 )\n",
      "5 stars ( 799704 )\n"
     ]
    }
   ],
   "source": [
    "from copy import deepcopy\n",
    "starmodels = [deepcopy(basemodel) for i in range(5)]\n",
    "for i in range(5):\n",
    "    slist = list(StarSentences(revtrain, [i+1]))\n",
    "    print i+1, \"stars (\", len(slist), \")\"\n",
    "    starmodels[i].train(  slist, total_examples=len(slist) )\n",
    "    "
   ]
  },
  {
   "cell_type": "markdown",
   "metadata": {},
   "source": [
    "### Inversion of the distributed representations\n",
    "\n",
    "At this point, we have 5 different word2vec language representations.  Each 'model' has been trained conditional (i.e., limited to) text from a specific star rating.  We will apply Bayes rule to go from _p(text|stars)_ to _p(stars|text)_."
   ]
  },
  {
   "cell_type": "markdown",
   "metadata": {},
   "source": [
    "Fo any new sentence we can obtain its _likelihood_ (lhd; actually, the composite likelihood approximation; see the paper) using the [score](https://radimrehurek.com/gensim/models/word2vec.html#gensim.models.word2vec.Word2Vec.score) function in the `word2vec` class.  We get the likelihood for each sentence in the first test review, then convert to a probability over star ratings.  This is all in the following handy wrapper."
   ]
  },
  {
   "cell_type": "code",
   "execution_count": 9,
   "metadata": {
    "collapsed": false
   },
   "outputs": [],
   "source": [
    "\"\"\"\n",
    "docprob takes two lists\n",
    "* docs: a list of documents, each of which is a list of sentences\n",
    "* models: the candidate word2vec models (each potential class)\n",
    "\n",
    "it returns the array of class probabilities.  Everything is done in-memory.\n",
    "\"\"\"\n",
    "\n",
    "import pandas as pd # for quick summing within doc\n",
    "\n",
    "def docprob(docs, mods):\n",
    "    # score() takes a list [s] of sentences here; could also be a sentence generator\n",
    "    sentlist = [s for d in docs for s in d]\n",
    "    # the log likelihood of each sentence in this review under each w2v representation\n",
    "    llhd = np.array( [ m.score(sentlist, len(sentlist)) for m in mods ] )\n",
    "    # now exponentiate to get likelihoods, \n",
    "    lhd = np.exp(llhd - llhd.max(axis=0)) # subtract row max to avoid numeric overload\n",
    "    # normalize across models (stars) to get sentence-star probabilities\n",
    "    prob = pd.DataFrame( (lhd/lhd.sum(axis=0)).transpose() )\n",
    "    # and finally average the sentence probabilities to get the review probability\n",
    "    prob[\"doc\"] = [i for i,d in enumerate(docs) for s in d]\n",
    "    prob = prob.groupby(\"doc\").mean()\n",
    "    return prob\n"
   ]
  },
  {
   "cell_type": "markdown",
   "metadata": {},
   "source": [
    "#### Test set example\n",
    "\n",
    "As an example, we apply the inversion on the full test set.  "
   ]
  },
  {
   "cell_type": "code",
   "execution_count": 10,
   "metadata": {
    "collapsed": true
   },
   "outputs": [],
   "source": [
    "# read in the test set\n",
    "revtest = list(YelpReviews(\"test\"))"
   ]
  },
  {
   "cell_type": "code",
   "execution_count": 11,
   "metadata": {
    "collapsed": false
   },
   "outputs": [],
   "source": [
    "# get the probs (note we give docprob a list of lists of words, plus the models)\n",
    "probs = docprob( [r['x'] for r in revtest], starmodels )"
   ]
  },
  {
   "cell_type": "code",
   "execution_count": 12,
   "metadata": {
    "collapsed": false,
    "scrolled": true
   },
   "outputs": [
    {
     "data": {
      "text/plain": [
       "<matplotlib.axes._subplots.AxesSubplot at 0x7fc43fc55110>"
      ]
     },
     "execution_count": 12,
     "metadata": {},
     "output_type": "execute_result"
    },
    {
     "data": {
      "image/png": "[encoded data removed]",
      "text/plain": [
       "<matplotlib.figure.Figure at 0x7fc43fc49290>"
      ]
     },
     "metadata": {},
     "output_type": "display_data"
    }
   ],
   "source": [
    "%matplotlib inline\n",
    "\n",
    "probpos = pd.DataFrame({\"out-of-sample prob positive\":probs[[3,4]].sum(axis=1), \n",
    "                        \"true stars\":[r['y'] for r in revtest]})\n",
    "probpos.boxplot(\"out-of-sample prob positive\",by=\"true stars\", figsize=(12,5))"
   ]
  }
 ],
 "metadata": {
  "kernelspec": {
   "display_name": "Python 2",
   "language": "python",
   "name": "python2"
  },
  "language_info": {
   "codemirror_mode": {
    "name": "ipython",
    "version": 2
   },
   "file_extension": ".py",
   "mimetype": "text/x-python",
   "name": "python",
   "nbconvert_exporter": "python",
   "pygments_lexer": "ipython2",
   "version": "2.7.10"
  }
 },
 "nbformat": 4,
 "nbformat_minor": 0
}
